{
 "cells": [
  {
   "cell_type": "markdown",
   "metadata": {
    "id": "VkOOg33M2iJp"
   },
   "source": [
    "# Random Number Generator (Uniform Distribution)\n"
   ]
  },
  {
   "cell_type": "code",
   "execution_count": 5,
   "metadata": {
    "colab": {
     "base_uri": "https://localhost:8080/"
    },
    "executionInfo": {
     "elapsed": 2287,
     "status": "ok",
     "timestamp": 1614181283222,
     "user": {
      "displayName": "Applied AI Course",
      "photoUrl": "https://lh3.googleusercontent.com/a-/AOh14GjjpR94Niu_srJxsFT_3bp9vDfqrjd2Zx94jDQdMg=s64",
      "userId": "06629147635963609455"
     },
     "user_tz": -330
    },
    "id": "0rPnWXup2iJq",
    "outputId": "37207d24-bc76-4121-f117-128e5091da6e"
   },
   "outputs": [
    {
     "name": "stdout",
     "output_type": "stream",
     "text": [
      "0.24827860434539895\n"
     ]
    }
   ],
   "source": [
    "import random\n",
    "print(random.random())"
   ]
  },
  {
   "cell_type": "code",
   "execution_count": null,
   "metadata": {
    "colab": {
     "base_uri": "https://localhost:8080/"
    },
    "executionInfo": {
     "elapsed": 1858,
     "status": "ok",
     "timestamp": 1614181302421,
     "user": {
      "displayName": "Applied AI Course",
      "photoUrl": "https://lh3.googleusercontent.com/a-/AOh14GjjpR94Niu_srJxsFT_3bp9vDfqrjd2Zx94jDQdMg=s64",
      "userId": "06629147635963609455"
     },
     "user_tz": -330
    },
    "id": "QPzivAyl2iJw",
    "outputId": "6139c7cd-b4fe-422e-f75f-532f8d1af597"
   },
   "outputs": [],
   "source": [
    "#load IRIS dataset with 150 points.\n",
    "from sklearn import datasets\n",
    "iris = datasets.load_iris()\n",
    "d = iris.data\n",
    "d.shape\n",
    "print(d[0])"
   ]
  },
  {
   "cell_type": "code",
   "execution_count": 15,
   "metadata": {},
   "outputs": [
    {
     "name": "stdout",
     "output_type": "stream",
     "text": [
      "0.2\n",
      "[array([5.1, 3.5, 1.4, 0.2]), array([5. , 3.4, 1.5, 0.2]), array([5.4, 3.7, 1.5, 0.2]), array([4.8, 3. , 1.4, 0.1]), array([5.1, 3.8, 1.5, 0.3]), array([4.6, 3.6, 1. , 0.2]), array([5. , 3. , 1.6, 0.2]), array([5.2, 3.5, 1.5, 0.2]), array([4.7, 3.2, 1.6, 0.2]), array([5.5, 4.2, 1.4, 0.2]), array([4.9, 3.6, 1.4, 0.1]), array([4.5, 2.3, 1.3, 0.3]), array([5.1, 3.8, 1.9, 0.4]), array([5.3, 3.7, 1.5, 0.2]), array([5.5, 2.3, 4. , 1.3]), array([5.7, 2.8, 4.5, 1.3]), array([6.6, 2.9, 4.6, 1.3]), array([5.9, 3. , 4.2, 1.5]), array([6.1, 2.9, 4.7, 1.4]), array([6.2, 2.2, 4.5, 1.5]), array([5.6, 3. , 4.1, 1.3]), array([6.1, 3. , 4.6, 1.4]), array([5.6, 2.7, 4.2, 1.3]), array([5.7, 2.9, 4.2, 1.3]), array([6.5, 3. , 5.8, 2.2]), array([7.3, 2.9, 6.3, 1.8]), array([6.7, 2.5, 5.8, 1.8]), array([5.7, 2.5, 5. , 2. ]), array([7.7, 2.6, 6.9, 2.3]), array([7.2, 3.2, 6. , 1.8]), array([6.4, 2.8, 5.6, 2.1]), array([6.3, 2.8, 5.1, 1.5]), array([6.1, 2.6, 5.6, 1.4]), array([7.7, 3. , 6.1, 2.3]), array([6.4, 3.1, 5.5, 1.8]), array([5.8, 2.7, 5.1, 1.9]), array([6.3, 2.5, 5. , 1.9]), array([6.2, 3.4, 5.4, 2.3])]\n",
      "38\n"
     ]
    }
   ],
   "source": [
    "# Sample 30 points randomly from the 150 point dataset\n",
    "n=150\n",
    "m=30\n",
    "p = m/n\n",
    "print(p)\n",
    "sampled_data =[]\n",
    "\n",
    "for i in range(0,n):\n",
    "    if random.random() <= p:\n",
    "        sampled_data.append(d[i,:])\n",
    "print(sampled_data)\n",
    "print(len(sampled_data))  # random number generators are not perfect. That's why we will get different no.of values\n",
    "                          # every time we run. It will be roughly around n number of values. Here n=30"
   ]
  },
  {
   "cell_type": "code",
   "execution_count": 14,
   "metadata": {
    "colab": {
     "base_uri": "https://localhost:8080/",
     "height": 71
    },
    "executionInfo": {
     "elapsed": 3881,
     "status": "ok",
     "timestamp": 1582698917861,
     "user": {
      "displayName": "Applied AI Course",
      "photoUrl": "https://lh3.googleusercontent.com/a-/AAuE7mC6pMrRYsn22C9tuTEP5-bjFj-F25a3idPwqTuaHQ=s64",
      "userId": "06629147635963609455"
     },
     "user_tz": -330
    },
    "id": "ZRP6Getl2iJz",
    "outputId": "6adaa48f-20ba-43df-f834-7064cf8ebb4a"
   },
   "outputs": [
    {
     "name": "stdout",
     "output_type": "stream",
     "text": [
      "0.2\n",
      "[array([5.4, 3.9, 1.3, 0.4]), array([5.1, 3.5, 1.4, 0.3]), array([5.2, 3.4, 1.4, 0.2]), array([5.5, 3.5, 1.3, 0.2]), array([4.5, 2.3, 1.3, 0.3]), array([5.1, 3.8, 1.6, 0.2]), array([6.9, 3.1, 4.9, 1.5]), array([6.5, 2.8, 4.6, 1.5]), array([4.9, 2.4, 3.3, 1. ]), array([5. , 2. , 3.5, 1. ]), array([6.1, 2.9, 4.7, 1.4]), array([5.6, 2.9, 3.6, 1.3]), array([5.8, 2.7, 4.1, 1. ]), array([5.5, 2.4, 3.7, 1. ]), array([5.8, 2.7, 3.9, 1.2]), array([5.6, 3. , 4.1, 1.3]), array([5.5, 2.5, 4. , 1.3]), array([5.7, 3. , 4.2, 1.2]), array([6.3, 3.3, 6. , 2.5]), array([6.3, 2.9, 5.6, 1.8]), array([6.8, 3. , 5.5, 2.1]), array([5.8, 2.8, 5.1, 2.4]), array([6.4, 2.8, 5.6, 2.2]), array([6.3, 3.4, 5.6, 2.4]), array([6.7, 3.3, 5.7, 2.5]), array([6.5, 3. , 5.2, 2. ])]\n"
     ]
    }
   ],
   "source": [
    "# Sample 30 points randomly from the 150 point dataset\n",
    "n=150\n",
    "m=30\n",
    "p = m/n\n",
    "print(p)\n",
    "sampled_data =[];\n",
    "\n",
    "for i in range(0,n):\n",
    "  a = random.random()\n",
    "#   print(a)\n",
    "  if  a <= p:\n",
    "    sampled_data.append(d[i,:])\n",
    "    \n",
    "print(sampled_data)\n"
   ]
  },
  {
   "cell_type": "code",
   "execution_count": 8,
   "metadata": {
    "colab": {
     "base_uri": "https://localhost:8080/",
     "height": 229
    },
    "executionInfo": {
     "elapsed": 1250,
     "status": "error",
     "timestamp": 1614181371060,
     "user": {
      "displayName": "Applied AI Course",
      "photoUrl": "https://lh3.googleusercontent.com/a-/AOh14GjjpR94Niu_srJxsFT_3bp9vDfqrjd2Zx94jDQdMg=s64",
      "userId": "06629147635963609455"
     },
     "user_tz": -330
    },
    "id": "ty7_PIFssm-n",
    "outputId": "5c264a73-2dfd-4a10-b3de-263a3f217aca"
   },
   "outputs": [
    {
     "ename": "TypeError",
     "evalue": "'<=' not supported between instances of 'str' and 'int'",
     "output_type": "error",
     "traceback": [
      "\u001b[1;31m---------------------------------------------------------------------------\u001b[0m",
      "\u001b[1;31mTypeError\u001b[0m                                 Traceback (most recent call last)",
      "\u001b[1;32m<ipython-input-8-39b06f435003>\u001b[0m in \u001b[0;36m<module>\u001b[1;34m\u001b[0m\n\u001b[0;32m      5\u001b[0m \u001b[0msampled\u001b[0m\u001b[1;33m=\u001b[0m\u001b[1;33m[\u001b[0m\u001b[1;33m]\u001b[0m\u001b[1;33m\u001b[0m\u001b[1;33m\u001b[0m\u001b[0m\n\u001b[0;32m      6\u001b[0m \u001b[1;32mfor\u001b[0m \u001b[0mi\u001b[0m \u001b[1;32min\u001b[0m \u001b[0miris\u001b[0m\u001b[1;33m:\u001b[0m\u001b[1;33m\u001b[0m\u001b[1;33m\u001b[0m\u001b[0m\n\u001b[1;32m----> 7\u001b[1;33m       \u001b[1;32mwhile\u001b[0m \u001b[0mi\u001b[0m\u001b[1;33m<=\u001b[0m\u001b[0mm\u001b[0m\u001b[1;33m:\u001b[0m \u001b[1;31m#This ensures sample size always = 30\u001b[0m\u001b[1;33m\u001b[0m\u001b[1;33m\u001b[0m\u001b[0m\n\u001b[0m\u001b[0;32m      8\u001b[0m \u001b[1;33m\u001b[0m\u001b[0m\n\u001b[0;32m      9\u001b[0m \u001b[1;33m\u001b[0m\u001b[0m\n",
      "\u001b[1;31mTypeError\u001b[0m: '<=' not supported between instances of 'str' and 'int'"
     ]
    }
   ],
   "source": [
    "m=30\n",
    "\n",
    "n=150 #len(iris)\n",
    "\n",
    "sampled=[]\n",
    "for i in iris:\n",
    "      while i<=m: #This ensures sample size always = 30\n",
    "\n",
    "     \n",
    "\n",
    "        if random.random()<.01 and len(sampled)<=30:\n",
    "\n",
    "        #1/100 data points will be selected in random till sample size is 30\n",
    "\n",
    "            sampled.append(i)\n",
    "\n",
    "            i+=1"
   ]
  },
  {
   "cell_type": "code",
   "execution_count": null,
   "metadata": {},
   "outputs": [],
   "source": []
  }
 ],
 "metadata": {
  "colab": {
   "name": "12.11.ipynb",
   "provenance": []
  },
  "kernelspec": {
   "display_name": "Python 3",
   "language": "python",
   "name": "python3"
  },
  "language_info": {
   "codemirror_mode": {
    "name": "ipython",
    "version": 3
   },
   "file_extension": ".py",
   "mimetype": "text/x-python",
   "name": "python",
   "nbconvert_exporter": "python",
   "pygments_lexer": "ipython3",
   "version": "3.6.13"
  }
 },
 "nbformat": 4,
 "nbformat_minor": 1
}
