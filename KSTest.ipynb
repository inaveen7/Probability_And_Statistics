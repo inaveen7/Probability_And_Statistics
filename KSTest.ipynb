{
  "nbformat": 4,
  "nbformat_minor": 0,
  "metadata": {
    "kernelspec": {
      "display_name": "Python 3",
      "language": "python",
      "name": "python3"
    },
    "language_info": {
      "codemirror_mode": {
        "name": "ipython",
        "version": 3
      },
      "file_extension": ".py",
      "mimetype": "text/x-python",
      "name": "python",
      "nbconvert_exporter": "python",
      "pygments_lexer": "ipython3",
      "version": "3.8.5"
    },
    "colab": {
      "provenance": []
    }
  },
  "cells": [
    {
      "cell_type": "markdown",
      "metadata": {
        "id": "j2G-d0d5k9Rf"
      },
      "source": [
        "# K-S Test"
      ]
    },
    {
      "cell_type": "code",
      "metadata": {
        "id": "q-R1Emfkk9R3"
      },
      "source": [
        "import numpy as np\n",
        "import seaborn as sns\n",
        "from scipy import stats\n",
        "import matplotlib.pyplot as plt\n",
        "\n",
        "#generate a gaussian r.v X\n",
        "x = stats.norm.rvs(size=1000);\n",
        "y = np.random.normal(loc=0,scale=1,size=1000)\n"
      ],
      "execution_count": 1,
      "outputs": []
    },
    {
      "cell_type": "code",
      "metadata": {
        "colab": {
          "base_uri": "https://localhost:8080/"
        },
        "id": "l1-ngz-jk9R-",
        "outputId": "9610980c-7aff-4e2f-c039-fd56a5ddd420"
      },
      "source": [
        "\n",
        "stats"
      ],
      "execution_count": 2,
      "outputs": [
        {
          "output_type": "execute_result",
          "data": {
            "text/plain": [
              "<module 'scipy.stats' from '/usr/local/lib/python3.7/dist-packages/scipy/stats/__init__.py'>"
            ]
          },
          "metadata": {},
          "execution_count": 2
        }
      ]
    },
    {
      "cell_type": "code",
      "metadata": {
        "id": "RczdGK0rk9SA",
        "outputId": "4bdf13b7-d1b1-4315-9eb4-ba28d7c2eaa4",
        "colab": {
          "base_uri": "https://localhost:8080/",
          "height": 265
        }
      },
      "source": [
        "# Y ~ Continous Uniform Distribution(0,1)\n",
        "y = np.random.uniform(0,1,10000);\n",
        "sns.kdeplot(np.array(y), bw_method=0.1)\n",
        "plt.show()"
      ],
      "execution_count": 3,
      "outputs": [
        {
          "output_type": "display_data",
          "data": {
            "text/plain": [
              "<Figure size 432x288 with 1 Axes>"
            ],
            "image/png": "[encoded data removed]"
          },
          "metadata": {
            "needs_background": "light"
          }
        }
      ]
    },
    {
      "cell_type": "code",
      "metadata": {
        "id": "ewBaF5eMk9SC",
        "outputId": "49148108-c0ad-461e-b764-a9941b13f689",
        "colab": {
          "base_uri": "https://localhost:8080/"
        }
      },
      "source": [
        "stats.kstest(y, 'norm')"
      ],
      "execution_count": 4,
      "outputs": [
        {
          "output_type": "execute_result",
          "data": {
            "text/plain": [
              "KstestResult(statistic=0.5000229064604031, pvalue=0.0)"
            ]
          },
          "metadata": {},
          "execution_count": 4
        }
      ]
    },
    {
      "cell_type": "code",
      "metadata": {
        "collapsed": true,
        "id": "wbcWxCSwk9SE"
      },
      "source": [],
      "execution_count": 4,
      "outputs": []
    }
  ]
}